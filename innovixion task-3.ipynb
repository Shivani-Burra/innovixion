{
 "cells": [
  {
   "cell_type": "code",
   "execution_count": 1,
   "id": "6a419b80",
   "metadata": {},
   "outputs": [
    {
     "name": "stdout",
     "output_type": "stream",
     "text": [
      "Your name please: Shivani\n",
      "D- deposit, W- withdraw, e or E - exit\n",
      "your choice: D\n",
      "Enter amount: 2500\n",
      "Balance after deposit  2500.0\n",
      "D- deposit, W- withdraw, e or E - exit\n",
      "your choice: W\n",
      "Enter amount: 500\n",
      "Balance after deposit  2000.0\n",
      "D- deposit, W- withdraw, e or E - exit\n",
      "your choice: E\n"
     ]
    },
    {
     "ename": "SystemExit",
     "evalue": "",
     "output_type": "error",
     "traceback": [
      "An exception has occurred, use %tb to see the full traceback.\n",
      "\u001b[1;31mSystemExit\u001b[0m\n"
     ]
    },
    {
     "name": "stderr",
     "output_type": "stream",
     "text": [
      "C:\\ProgramData\\anaconda3\\lib\\site-packages\\IPython\\core\\interactiveshell.py:3468: UserWarning: To exit: use 'exit', 'quit', or Ctrl-D.\n",
      "  warn(\"To exit: use 'exit', 'quit', or Ctrl-D.\", stacklevel=1)\n"
     ]
    }
   ],
   "source": [
    "import sys\n",
    "class Bank(object):\n",
    "\n",
    "    def __init__(self, name, balance=0.0):\n",
    "            self.name=name\n",
    "            self.balance=balance\n",
    "    def deposit(self,amount):\n",
    "        self.balance+=amount\n",
    "        return self.balance\n",
    "    def withdraw(self,amount):\n",
    "        if amount>self.balance:\n",
    "            print('Balance amount is less, so no withdrawl')\n",
    "        else:\n",
    "            self.balance-=amount\n",
    "            return self.balance\n",
    "name=input('Your name please: ')\n",
    "b=Bank(name)\n",
    "while(True):\n",
    "    print('D- deposit, W- withdraw, e or E - exit')\n",
    "    choice=input('your choice: ')\n",
    "    if choice=='e' or choice=='E':\n",
    "        sys.exit()\n",
    "    amt=float(input('Enter amount: '))\n",
    "\n",
    "    if choice=='d' or choice=='D':\n",
    "        print('Balance after deposit ',b.deposit(amt))\n",
    "    if choice=='w' or choice =='W':\n",
    "        print('Balance after deposit ',b.withdraw(amt))"
   ]
  },
  {
   "cell_type": "code",
   "execution_count": null,
   "id": "8ef51027",
   "metadata": {},
   "outputs": [],
   "source": []
  },
  {
   "cell_type": "code",
   "execution_count": null,
   "id": "c9e3c245",
   "metadata": {},
   "outputs": [],
   "source": []
  }
 ],
 "metadata": {
  "kernelspec": {
   "display_name": "Python 3 (ipykernel)",
   "language": "python",
   "name": "python3"
  },
  "language_info": {
   "codemirror_mode": {
    "name": "ipython",
    "version": 3
   },
   "file_extension": ".py",
   "mimetype": "text/x-python",
   "name": "python",
   "nbconvert_exporter": "python",
   "pygments_lexer": "ipython3",
   "version": "3.10.9"
  }
 },
 "nbformat": 4,
 "nbformat_minor": 5
}
