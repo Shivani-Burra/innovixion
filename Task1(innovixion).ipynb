{
  "nbformat": 4,
  "nbformat_minor": 0,
  "metadata": {
    "colab": {
      "provenance": [],
      "authorship_tag": "ABX9TyPu0RaFAhG/ruPr3JlQ+OjI"
    },
    "kernelspec": {
      "name": "python3",
      "display_name": "Python 3"
    },
    "language_info": {
      "name": "python"
    }
  },
  "cells": [
    {
      "cell_type": "markdown",
      "source": [
        "**WEB SCRAPPER USING BEAUTIFULSOUP**"
      ],
      "metadata": {
        "id": "PZFmSDPzZvbh"
      }
    },
    {
      "cell_type": "code",
      "execution_count": 4,
      "metadata": {
        "colab": {
          "base_uri": "https://localhost:8080/"
        },
        "id": "giVdlbHkZpnf",
        "outputId": "3a41111a-79e6-401b-b0a5-bf337094c2f3"
      },
      "outputs": [
        {
          "output_type": "stream",
          "name": "stdout",
          "text": [
            "Title:Example Domain\n",
            "paragraph1:This domain is for use in illustrative examples in documents. You may use this\n",
            "    domain in literature without prior coordination or asking for permission.\n",
            "paragraph2:More information...\n",
            "failed to retrive the page.Status code:200\n"
          ]
        }
      ],
      "source": [
        "import requests\n",
        "from bs4 import BeautifulSoup\n",
        "\n",
        "url=\"https://example.com\"\n",
        "response=requests.get(url)\n",
        "\n",
        "if response.status_code==200:\n",
        "  soup=BeautifulSoup(response.text,'html.parser')\n",
        "\n",
        "  title=soup.title.text\n",
        "  paragraphs=soup.find_all('p')\n",
        "\n",
        "  print(f'Title:{title}')\n",
        "  for index,paragraph in enumerate(paragraphs):\n",
        "    print(f'paragraph{index + 1}:{paragraph.text}')\n",
        "  else:\n",
        "    print(f'failed to retrive the page.Status code:{response.status_code}')"
      ]
    },
    {
      "cell_type": "code",
      "source": [
        "import requests\n",
        "from bs4 import BeautifulSoup\n",
        "\n",
        "def scrape_quotes():\n",
        "  url='http://quotes.toscrape.com'\n",
        "  response=requests.get(url)\n",
        "\n",
        "  if response.status_code==200:\n",
        "    soup=BeautifulSoup(response.text,'html.parser')\n",
        "\n",
        "    for quote in soup.find_all('span',class_='text'):\n",
        "      print(quote.text)\n",
        "      print('***')\n",
        "  else:\n",
        "    print(f'failed to retrieve the page.Status code:{response.status_code}')\n",
        "if __name__==\"__main__\":\n",
        "  scrape_quotes()\n"
      ],
      "metadata": {
        "colab": {
          "base_uri": "https://localhost:8080/"
        },
        "id": "_Wws_uSOfg6Y",
        "outputId": "75f3b3ff-a074-4721-e2f9-50f9222158ad"
      },
      "execution_count": 5,
      "outputs": [
        {
          "output_type": "stream",
          "name": "stdout",
          "text": [
            "“The world as we have created it is a process of our thinking. It cannot be changed without changing our thinking.”\n",
            "***\n",
            "“It is our choices, Harry, that show what we truly are, far more than our abilities.”\n",
            "***\n",
            "“There are only two ways to live your life. One is as though nothing is a miracle. The other is as though everything is a miracle.”\n",
            "***\n",
            "“The person, be it gentleman or lady, who has not pleasure in a good novel, must be intolerably stupid.”\n",
            "***\n",
            "“Imperfection is beauty, madness is genius and it's better to be absolutely ridiculous than absolutely boring.”\n",
            "***\n",
            "“Try not to become a man of success. Rather become a man of value.”\n",
            "***\n",
            "“It is better to be hated for what you are than to be loved for what you are not.”\n",
            "***\n",
            "“I have not failed. I've just found 10,000 ways that won't work.”\n",
            "***\n",
            "“A woman is like a tea bag; you never know how strong it is until it's in hot water.”\n",
            "***\n",
            "“A day without sunshine is like, you know, night.”\n",
            "***\n"
          ]
        }
      ]
    }
  ]
}